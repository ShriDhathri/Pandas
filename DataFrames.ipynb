{
 "cells": [
  {
   "cell_type": "code",
   "execution_count": 16,
   "id": "54975049-d34e-4e27-8fee-224ee55a01b1",
   "metadata": {},
   "outputs": [],
   "source": [
    "df_stocks=pd.DataFrame({\n",
    "    'tickers':['GOOGL','WMT','MSFT'],\n",
    "    'price':[845,65,64],\n",
    "    'pe':[30.37,14.26,30.97],\n",
    "    'eps':[27.82,4.61,2.12]\n",
    "})\n",
    "\n",
    "df_weather=pd.DataFrame({\n",
    "    'day':['1/1/2017','1/1/2017','1/3/2017'],\n",
    "    'temperature':[32,35,28],\n",
    "    'event':['Rain','Sunny','Snow']\n",
    "})"
   ]
  },
  {
   "cell_type": "code",
   "execution_count": 18,
   "id": "a5d2734c-5ebd-47a2-95f1-3ab69ae4662d",
   "metadata": {},
   "outputs": [],
   "source": [
    "import pandas as pd\n",
    "with pd.ExcelWriter(r'C:\\Users\\a\\Documents\\Python Scripts\\stock_weather.xlsx')as writer:\n",
    "    df_stocks.to_excel(writer, sheet_name=\"stocks\")\n",
    "    df_weather.to_excel(writer, sheet_name=\"weather\")\n",
    "    "
   ]
  },
  {
   "cell_type": "code",
   "execution_count": null,
   "id": "4733f19f-d446-42e5-8910-d244dd6bb2e3",
   "metadata": {},
   "outputs": [],
   "source": []
  },
  {
   "cell_type": "code",
   "execution_count": null,
   "id": "2de82851-2967-44ef-a3be-9744d65354be",
   "metadata": {},
   "outputs": [],
   "source": []
  },
  {
   "cell_type": "code",
   "execution_count": null,
   "id": "a7e1b43d-7298-4d2a-8287-f9afce53c9fa",
   "metadata": {},
   "outputs": [],
   "source": []
  },
  {
   "cell_type": "code",
   "execution_count": null,
   "id": "daadbb91-bda2-4c85-88e7-f127ea423a4b",
   "metadata": {},
   "outputs": [],
   "source": []
  }
 ],
 "metadata": {
  "kernelspec": {
   "display_name": "Python 3 (ipykernel)",
   "language": "python",
   "name": "python3"
  },
  "language_info": {
   "codemirror_mode": {
    "name": "ipython",
    "version": 3
   },
   "file_extension": ".py",
   "mimetype": "text/x-python",
   "name": "python",
   "nbconvert_exporter": "python",
   "pygments_lexer": "ipython3",
   "version": "3.11.7"
  }
 },
 "nbformat": 4,
 "nbformat_minor": 5
}
